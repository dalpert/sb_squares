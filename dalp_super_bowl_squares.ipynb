{
 "cells": [
  {
   "cell_type": "code",
   "execution_count": 134,
   "metadata": {},
   "outputs": [],
   "source": [
    "# Libraries\n",
    "from bs4 import BeautifulSoup, Comment\n",
    "import numpy as np\n",
    "import pandas as pd\n",
    "import matplotlib\n",
    "import matplotlib.pyplot as plt\n",
    "import urllib\n",
    "import urllib2\n",
    "import operator\n",
    "import seaborn as sns\n",
    "%matplotlib inline"
   ]
  },
  {
   "cell_type": "code",
   "execution_count": 17,
   "metadata": {
    "collapsed": true
   },
   "outputs": [],
   "source": [
    "# given a link, return the end of quarter squares\n",
    "def get_quarters(link):\n",
    "    page = urllib.urlopen(link).read()\n",
    "    soup = BeautifulSoup(page, \"lxml\")\n",
    "    table = soup.find_all('table')\n",
    "    scores_table = table[0].find('tbody')\n",
    "    trs = scores_table.find_all('tr')\n",
    "    td_home = trs[0].find_all('td')[2:-1]\n",
    "    td_away = trs[1].find_all('td')[2:-1]\n",
    "    scores_qtr_home = [int(td.text) for td in td_home]\n",
    "    scores_qtr_away = [int(td.text) for td in td_away]\n",
    "    scores_home = np.cumsum(scores_qtr_home)\n",
    "    scores_away = np.cumsum(scores_qtr_away)\n",
    "    return [(a % 10, b % 10) for a,b in zip(scores_home, scores_away)]"
   ]
  },
  {
   "cell_type": "code",
   "execution_count": 18,
   "metadata": {},
   "outputs": [
    {
     "data": {
      "text/plain": [
       "[(3, 0), (6, 3), (6, 0), (2, 8)]"
      ]
     },
     "execution_count": 18,
     "metadata": {},
     "output_type": "execute_result"
    }
   ],
   "source": [
    "# test\n",
    "get_quarters('https://www.pro-football-reference.com/boxscores/201809060phi.htm')"
   ]
  },
  {
   "cell_type": "code",
   "execution_count": 19,
   "metadata": {
    "collapsed": true
   },
   "outputs": [],
   "source": [
    "# get all games links from a given year, week combo\n",
    "def get_week_links(yr, wk):\n",
    "    link = 'https://www.pro-football-reference.com/years/' + str(yr) + '/week_' + str(wk) + '.htm'\n",
    "    page = urllib.urlopen(link).read()\n",
    "    soup = BeautifulSoup(page, \"lxml\")\n",
    "    game_hrefs = soup.findAll('a', href=True, text='Final')\n",
    "    game_links = ['https://www.pro-football-reference.com' \\\n",
    "              + href['href'] for href in game_hrefs]\n",
    "    return game_links"
   ]
  },
  {
   "cell_type": "code",
   "execution_count": 20,
   "metadata": {},
   "outputs": [
    {
     "data": {
      "text/plain": [
       "['https://www.pro-football-reference.com/boxscores/201809060phi.htm',\n",
       " 'https://www.pro-football-reference.com/boxscores/201809090cle.htm',\n",
       " 'https://www.pro-football-reference.com/boxscores/201809090rav.htm',\n",
       " 'https://www.pro-football-reference.com/boxscores/201809090nyg.htm',\n",
       " 'https://www.pro-football-reference.com/boxscores/201809090nwe.htm',\n",
       " 'https://www.pro-football-reference.com/boxscores/201809090nor.htm',\n",
       " 'https://www.pro-football-reference.com/boxscores/201809090min.htm',\n",
       " 'https://www.pro-football-reference.com/boxscores/201809090mia.htm',\n",
       " 'https://www.pro-football-reference.com/boxscores/201809090clt.htm',\n",
       " 'https://www.pro-football-reference.com/boxscores/201809090sdg.htm',\n",
       " 'https://www.pro-football-reference.com/boxscores/201809090car.htm',\n",
       " 'https://www.pro-football-reference.com/boxscores/201809090den.htm',\n",
       " 'https://www.pro-football-reference.com/boxscores/201809090crd.htm',\n",
       " 'https://www.pro-football-reference.com/boxscores/201809090gnb.htm',\n",
       " 'https://www.pro-football-reference.com/boxscores/201809100det.htm',\n",
       " 'https://www.pro-football-reference.com/boxscores/201809100rai.htm']"
      ]
     },
     "execution_count": 20,
     "metadata": {},
     "output_type": "execute_result"
    }
   ],
   "source": [
    "# test\n",
    "get_week_links(2018, 1)"
   ]
  },
  {
   "cell_type": "code",
   "execution_count": 21,
   "metadata": {
    "collapsed": true
   },
   "outputs": [],
   "source": [
    "# all game links from the 2016-2018 seasons\n",
    "all_links = []\n",
    "for yr in range(2016, 2019):\n",
    "    for wk in range(1, 18):\n",
    "        all_links += get_week_links(yr, wk)"
   ]
  },
  {
   "cell_type": "code",
   "execution_count": 22,
   "metadata": {},
   "outputs": [
    {
     "data": {
      "text/plain": [
       "768"
      ]
     },
     "execution_count": 22,
     "metadata": {},
     "output_type": "execute_result"
    }
   ],
   "source": [
    "# sanity check\n",
    "len(all_links)"
   ]
  },
  {
   "cell_type": "code",
   "execution_count": 25,
   "metadata": {
    "collapsed": true
   },
   "outputs": [],
   "source": [
    "# matrices for each quarter and combined\n",
    "sb_squares = np.zeros((10,10))\n",
    "sb_squares_q1 = np.zeros((10,10))\n",
    "sb_squares_q2 = np.zeros((10,10))\n",
    "sb_squares_q3 = np.zeros((10,10))\n",
    "sb_squares_q4 = np.zeros((10,10))"
   ]
  },
  {
   "cell_type": "code",
   "execution_count": 26,
   "metadata": {},
   "outputs": [],
   "source": [
    "# add to matrices depending on square that hits\n",
    "for i, link in enumerate(all_links):\n",
    "    try:\n",
    "        qtr_ends = get_quarters(link)\n",
    "        sb_squares_q1[qtr_ends[0]] += 1\n",
    "        sb_squares_q2[qtr_ends[1]] += 1\n",
    "        sb_squares_q3[qtr_ends[2]] += 1\n",
    "        sb_squares_q4[qtr_ends[3]] += 1\n",
    "        for qtr_end in qtr_ends:\n",
    "            sb_squares[qtr_end] += 1\n",
    "    except:\n",
    "        print i"
   ]
  },
  {
   "cell_type": "code",
   "execution_count": 28,
   "metadata": {},
   "outputs": [
    {
     "data": {
      "text/plain": [
       "array([[ 22.,   8.,   6.,  20.,  15.,   9.,  19.,  29.,   7.,   7.],\n",
       "       [  5.,  11.,   3.,   3.,  12.,   3.,   6.,   7.,   6.,   5.],\n",
       "       [  4.,   5.,   2.,   2.,   4.,   2.,   7.,   5.,   4.,   3.],\n",
       "       [ 17.,  19.,   4.,  14.,  15.,   6.,  12.,   9.,   9.,   9.],\n",
       "       [ 13.,  15.,   4.,   9.,  10.,   1.,  10.,  18.,   8.,   7.],\n",
       "       [  9.,   2.,   1.,   5.,   6.,   1.,   5.,   4.,   5.,   0.],\n",
       "       [ 13.,   1.,   2.,   8.,  11.,   6.,   8.,   5.,   4.,   2.],\n",
       "       [ 24.,  14.,   8.,  20.,  24.,   4.,   9.,  18.,   7.,   5.],\n",
       "       [  2.,  12.,   2.,   4.,   5.,   0.,   5.,   5.,   4.,   1.],\n",
       "       [  6.,   1.,   3.,   2.,   5.,   2.,   6.,  13.,   3.,   6.]])"
      ]
     },
     "execution_count": 28,
     "metadata": {},
     "output_type": "execute_result"
    }
   ],
   "source": [
    "# check\n",
    "sb_squares_q4"
   ]
  },
  {
   "cell_type": "code",
   "execution_count": 42,
   "metadata": {},
   "outputs": [
    {
     "data": {
      "image/png": "[encoded data removed]",
      "text/plain": [
       "<matplotlib.figure.Figure at 0x120b32290>"
      ]
     },
     "metadata": {},
     "output_type": "display_data"
    }
   ],
   "source": [
    "# heatmaps\n",
    "fig = plt.figure(figsize=(10,10))\n",
    "r = sns.heatmap(sb_squares_q4, cmap='BuPu')\n",
    "r.set_title(\"Heatmap of last digit score frequencies (Q4)\")\n",
    "r.set(xlabel='Home team', ylabel='Away team')\n",
    "plt.show()"
   ]
  },
  {
   "cell_type": "code",
   "execution_count": 93,
   "metadata": {
    "collapsed": true
   },
   "outputs": [],
   "source": [
    "# expected values total\n",
    "score_dict_ev = {}\n",
    "for i in range(len(sb_squares)):\n",
    "    for j in range(len(sb_squares)):\n",
    "        score_dict_ev[(i, j)] = (sb_squares/sum(sum(sb_squares))*1000)[i][j]"
   ]
  },
  {
   "cell_type": "code",
   "execution_count": 94,
   "metadata": {},
   "outputs": [],
   "source": [
    "# sort\n",
    "sorted_score_dict_ev = sorted(score_dict_ev.items(), key=operator.itemgetter(1), reverse=True)"
   ]
  },
  {
   "cell_type": "code",
   "execution_count": 95,
   "metadata": {},
   "outputs": [
    {
     "data": {
      "text/plain": [
       "[((0, 0), 78.676942838792556),\n",
       " ((0, 7), 67.116249197174056),\n",
       " ((7, 0), 59.73025048169557),\n",
       " ((3, 0), 52.02312138728324),\n",
       " ((0, 3), 48.490687219010915),\n",
       " ((7, 7), 41.425818882466281),\n",
       " ((3, 7), 35.645472061657031),\n",
       " ((0, 4), 33.397559409120106),\n",
       " ((7, 3), 30.828516377649326),\n",
       " ((3, 3), 29.865125240847785),\n",
       " ((7, 4), 23.442517662170843),\n",
       " ((4, 0), 23.121387283236992),\n",
       " ((0, 6), 20.873474630700066),\n",
       " ((3, 4), 20.873474630700066),\n",
       " ((4, 7), 20.873474630700066),\n",
       " ((3, 6), 18.625561978163134),\n",
       " ((6, 0), 16.698779704560053),\n",
       " ((4, 4), 14.129736673089274),\n",
       " ((6, 7), 13.48747591522158),\n",
       " ((7, 6), 13.166345536287732),\n",
       " ((0, 1), 12.845215157353886),\n",
       " ((6, 4), 11.881824020552344),\n",
       " ((7, 1), 11.23956326268465),\n",
       " ((3, 1), 10.918432883750802),\n",
       " ((6, 3), 10.918432883750802),\n",
       " ((4, 3), 10.918432883750802),\n",
       " ((4, 6), 9.3127809890815669),\n",
       " ((1, 7), 8.6705202312138727),\n",
       " ((0, 9), 8.6705202312138727),\n",
       " ((1, 4), 8.3493898522800265),\n",
       " ((3, 9), 8.3493898522800265),\n",
       " ((6, 6), 8.3493898522800265),\n",
       " ((4, 1), 8.0282594733461785),\n",
       " ((9, 0), 7.3859987154784843),\n",
       " ((9, 7), 7.3859987154784843),\n",
       " ((1, 0), 7.3859987154784843),\n",
       " ((3, 8), 6.7437379576107901),\n",
       " ((1, 1), 6.422607578676943),\n",
       " ((7, 9), 6.422607578676943),\n",
       " ((7, 8), 6.1014771997430959),\n",
       " ((0, 5), 5.7803468208092479),\n",
       " ((0, 2), 5.7803468208092479),\n",
       " ((0, 8), 5.1380860629415537),\n",
       " ((2, 0), 5.1380860629415537),\n",
       " ((9, 4), 4.8169556840077066),\n",
       " ((1, 3), 4.8169556840077066),\n",
       " ((4, 8), 4.8169556840077066),\n",
       " ((8, 1), 4.8169556840077066),\n",
       " ((5, 0), 4.4958253050738595),\n",
       " ((4, 9), 4.4958253050738595),\n",
       " ((2, 6), 4.1746949261400133),\n",
       " ((3, 5), 4.1746949261400133),\n",
       " ((2, 7), 4.1746949261400133),\n",
       " ((2, 3), 4.1746949261400133),\n",
       " ((8, 7), 4.1746949261400133),\n",
       " ((1, 8), 3.8535645472061657),\n",
       " ((9, 3), 3.5324341682723186),\n",
       " ((9, 9), 3.5324341682723186),\n",
       " ((7, 2), 3.5324341682723186),\n",
       " ((5, 4), 3.5324341682723186),\n",
       " ((9, 6), 3.5324341682723186),\n",
       " ((6, 9), 3.2113037893384715),\n",
       " ((7, 5), 3.2113037893384715),\n",
       " ((6, 5), 3.2113037893384715),\n",
       " ((8, 3), 2.8901734104046239),\n",
       " ((8, 4), 2.8901734104046239),\n",
       " ((1, 6), 2.5690430314707768),\n",
       " ((3, 2), 2.5690430314707768),\n",
       " ((6, 1), 2.5690430314707768),\n",
       " ((5, 3), 2.5690430314707768),\n",
       " ((5, 8), 2.2479126525369297),\n",
       " ((4, 5), 2.2479126525369297),\n",
       " ((2, 1), 2.2479126525369297),\n",
       " ((8, 6), 2.2479126525369297),\n",
       " ((5, 7), 2.2479126525369297),\n",
       " ((1, 9), 2.2479126525369297),\n",
       " ((1, 5), 1.9267822736030829),\n",
       " ((9, 2), 1.9267822736030829),\n",
       " ((8, 0), 1.9267822736030829),\n",
       " ((4, 2), 1.9267822736030829),\n",
       " ((2, 4), 1.9267822736030829),\n",
       " ((5, 6), 1.9267822736030829),\n",
       " ((8, 8), 1.9267822736030829),\n",
       " ((2, 8), 1.6056518946692357),\n",
       " ((9, 1), 1.6056518946692357),\n",
       " ((1, 2), 1.6056518946692357),\n",
       " ((2, 9), 1.6056518946692357),\n",
       " ((5, 1), 1.2845215157353884),\n",
       " ((9, 8), 1.2845215157353884),\n",
       " ((6, 8), 1.2845215157353884),\n",
       " ((2, 5), 0.96339113680154143),\n",
       " ((8, 2), 0.96339113680154143),\n",
       " ((6, 2), 0.96339113680154143),\n",
       " ((9, 5), 0.96339113680154143),\n",
       " ((2, 2), 0.64226075786769421),\n",
       " ((8, 5), 0.3211303789338471),\n",
       " ((5, 5), 0.3211303789338471),\n",
       " ((8, 9), 0.3211303789338471),\n",
       " ((5, 2), 0.3211303789338471),\n",
       " ((5, 9), 0.0)]"
      ]
     },
     "execution_count": 95,
     "metadata": {},
     "output_type": "execute_result"
    }
   ],
   "source": [
    "# display\n",
    "sorted_score_dict_ev"
   ]
  },
  {
   "cell_type": "code",
   "execution_count": 98,
   "metadata": {},
   "outputs": [],
   "source": [
    "# alternate payout structure (20-20-20-40)\n",
    "alt_payout = sb_squares_q1*0.2 + sb_squares_q2*0.2 + sb_squares_q3*0.2 + sb_squares_q4*0.4"
   ]
  },
  {
   "cell_type": "code",
   "execution_count": 99,
   "metadata": {
    "collapsed": true
   },
   "outputs": [],
   "source": [
    "# expected values total\n",
    "score_dict_ev_alt = {}\n",
    "for i in range(len(alt_payout)):\n",
    "    for j in range(len(alt_payout)):\n",
    "        score_dict_ev_alt[(i, j)] = (alt_payout/sum(sum(alt_payout))*1000)[i][j]"
   ]
  },
  {
   "cell_type": "code",
   "execution_count": 100,
   "metadata": {
    "collapsed": true
   },
   "outputs": [],
   "source": [
    "# sort\n",
    "sorted_score_dict_ev_alt = sorted(score_dict_ev_alt.items(), key=operator.itemgetter(1), reverse=True)"
   ]
  },
  {
   "cell_type": "code",
   "execution_count": 101,
   "metadata": {},
   "outputs": [
    {
     "data": {
      "text/plain": [
       "[((0, 0), 69.53125),\n",
       " ((0, 7), 61.718749999999993),\n",
       " ((7, 0), 54.166666666666671),\n",
       " ((3, 0), 46.354166666666671),\n",
       " ((0, 3), 44.270833333333336),\n",
       " ((7, 7), 38.020833333333329),\n",
       " ((3, 7), 30.729166666666668),\n",
       " ((0, 4), 30.729166666666668),\n",
       " ((7, 3), 29.427083333333336),\n",
       " ((3, 3), 27.864583333333336),\n",
       " ((7, 4), 24.739583333333332),\n",
       " ((4, 0), 21.875000000000004),\n",
       " ((0, 6), 21.614583333333336),\n",
       " ((3, 4), 20.833333333333332),\n",
       " ((4, 7), 20.833333333333332),\n",
       " ((6, 0), 16.927083333333332),\n",
       " ((3, 6), 16.927083333333332),\n",
       " ((4, 4), 14.0625),\n",
       " ((3, 1), 13.802083333333334),\n",
       " ((7, 6), 13.020833333333334),\n",
       " ((0, 1), 12.500000000000002),\n",
       " ((6, 4), 12.500000000000002),\n",
       " ((7, 1), 12.500000000000002),\n",
       " ((6, 7), 12.239583333333334),\n",
       " ((4, 3), 11.197916666666666),\n",
       " ((6, 3), 10.677083333333332),\n",
       " ((4, 1), 10.15625),\n",
       " ((4, 6), 10.15625),\n",
       " ((1, 4), 9.6354166666666679),\n",
       " ((9, 7), 9.375),\n",
       " ((1, 7), 8.8541666666666679),\n",
       " ((0, 9), 8.8541666666666679),\n",
       " ((6, 6), 8.59375),\n",
       " ((3, 9), 8.5937499999999982),\n",
       " ((1, 1), 7.8125),\n",
       " ((3, 8), 7.8125),\n",
       " ((9, 0), 7.5520833333333339),\n",
       " ((1, 0), 7.2916666666666661),\n",
       " ((0, 5), 7.03125),\n",
       " ((7, 8), 6.7708333333333348),\n",
       " ((8, 1), 6.7708333333333348),\n",
       " ((7, 9), 6.510416666666667),\n",
       " ((0, 2), 6.2500000000000009),\n",
       " ((0, 8), 5.9895833333333339),\n",
       " ((5, 0), 5.989583333333333),\n",
       " ((4, 8), 5.729166666666667),\n",
       " ((4, 9), 5.4687500000000009),\n",
       " ((9, 4), 5.208333333333333),\n",
       " ((2, 0), 5.208333333333333),\n",
       " ((2, 6), 4.947916666666667),\n",
       " ((7, 2), 4.947916666666667),\n",
       " ((3, 5), 4.947916666666667),\n",
       " ((1, 3), 4.6875000000000009),\n",
       " ((1, 8), 4.6875000000000009),\n",
       " ((2, 7), 4.6875),\n",
       " ((8, 7), 4.6875),\n",
       " ((5, 4), 4.4270833333333339),\n",
       " ((9, 6), 4.4270833333333339),\n",
       " ((9, 9), 4.166666666666667),\n",
       " ((6, 5), 4.166666666666667),\n",
       " ((2, 3), 3.90625),\n",
       " ((1, 6), 3.6458333333333339),\n",
       " ((7, 5), 3.6458333333333339),\n",
       " ((8, 4), 3.645833333333333),\n",
       " ((9, 3), 3.385416666666667),\n",
       " ((8, 3), 3.385416666666667),\n",
       " ((5, 3), 3.385416666666667),\n",
       " ((3, 2), 3.1250000000000004),\n",
       " ((2, 1), 3.1249999999999996),\n",
       " ((8, 6), 3.1249999999999996),\n",
       " ((1, 9), 3.1249999999999996),\n",
       " ((6, 9), 2.8645833333333335),\n",
       " ((5, 8), 2.8645833333333335),\n",
       " ((5, 7), 2.8645833333333335),\n",
       " ((5, 6), 2.8645833333333335),\n",
       " ((4, 2), 2.6041666666666665),\n",
       " ((2, 4), 2.6041666666666665),\n",
       " ((8, 8), 2.6041666666666665),\n",
       " ((1, 5), 2.3437500000000004),\n",
       " ((6, 1), 2.3437500000000004),\n",
       " ((2, 8), 2.34375),\n",
       " ((4, 5), 2.0833333333333335),\n",
       " ((8, 0), 2.0833333333333335),\n",
       " ((6, 8), 2.0833333333333335),\n",
       " ((1, 2), 2.0833333333333335),\n",
       " ((9, 2), 1.822916666666667),\n",
       " ((9, 8), 1.822916666666667),\n",
       " ((2, 9), 1.822916666666667),\n",
       " ((5, 1), 1.5625000000000002),\n",
       " ((9, 1), 1.5625000000000002),\n",
       " ((8, 2), 1.3020833333333333),\n",
       " ((6, 2), 1.3020833333333333),\n",
       " ((9, 5), 1.3020833333333333),\n",
       " ((2, 5), 1.0416666666666667),\n",
       " ((2, 2), 1.0416666666666667),\n",
       " ((5, 5), 0.52083333333333337),\n",
       " ((8, 9), 0.52083333333333337),\n",
       " ((5, 2), 0.52083333333333337),\n",
       " ((8, 5), 0.26041666666666669),\n",
       " ((5, 9), 0.0)]"
      ]
     },
     "execution_count": 101,
     "metadata": {},
     "output_type": "execute_result"
    }
   ],
   "source": [
    "# display\n",
    "sorted_score_dict_ev_alt"
   ]
  },
  {
   "cell_type": "code",
   "execution_count": null,
   "metadata": {
    "collapsed": true
   },
   "outputs": [],
   "source": []
  },
  {
   "cell_type": "code",
   "execution_count": 122,
   "metadata": {
    "collapsed": true
   },
   "outputs": [],
   "source": [
    "# get EV for specific matrix\n",
    "def get_evs(sb_squares):\n",
    "    score_dict_ev = {}\n",
    "    for i in range(len(sb_squares)):\n",
    "        for j in range(len(sb_squares)):\n",
    "            score_dict_ev[(i, j)] = (sb_squares/sum(sum(sb_squares))*1000*0.25)[i][j]\n",
    "    sorted_score_dict_ev = sorted(score_dict_ev.items(), key=operator.itemgetter(1), reverse=True)\n",
    "    return sorted_score_dict_ev"
   ]
  },
  {
   "cell_type": "code",
   "execution_count": 123,
   "metadata": {},
   "outputs": [
    {
     "data": {
      "text/plain": [
       "[((0, 0), 42.317708333333336),\n",
       " ((0, 7), 34.1796875),\n",
       " ((7, 0), 24.088541666666668),\n",
       " ((3, 0), 22.135416666666668),\n",
       " ((0, 3), 20.833333333333332),\n",
       " ((7, 7), 19.205729166666668),\n",
       " ((3, 7), 12.369791666666666),\n",
       " ((0, 4), 11.71875),\n",
       " ((3, 3), 10.7421875),\n",
       " ((7, 3), 8.4635416666666661),\n",
       " ((6, 7), 4.8828125),\n",
       " ((4, 0), 4.231770833333333),\n",
       " ((0, 6), 3.90625),\n",
       " ((4, 7), 3.90625),\n",
       " ((6, 0), 2.9296875),\n",
       " ((3, 4), 2.9296875),\n",
       " ((7, 4), 2.2786458333333335),\n",
       " ((4, 3), 1.953125),\n",
       " ((7, 6), 1.6276041666666667),\n",
       " ((0, 2), 1.6276041666666667),\n",
       " ((0, 9), 1.6276041666666667),\n",
       " ((6, 3), 1.6276041666666667),\n",
       " ((0, 1), 1.3020833333333333),\n",
       " ((3, 6), 1.3020833333333333),\n",
       " ((4, 6), 1.3020833333333333),\n",
       " ((2, 3), 0.9765625),\n",
       " ((2, 0), 0.9765625),\n",
       " ((6, 4), 0.65104166666666663),\n",
       " ((7, 1), 0.65104166666666663),\n",
       " ((4, 4), 0.65104166666666663),\n",
       " ((9, 0), 0.32552083333333331),\n",
       " ((7, 5), 0.32552083333333331),\n",
       " ((0, 5), 0.32552083333333331),\n",
       " ((1, 0), 0.32552083333333331),\n",
       " ((2, 7), 0.32552083333333331),\n",
       " ((8, 3), 0.32552083333333331),\n",
       " ((1, 3), 0.32552083333333331),\n",
       " ((9, 6), 0.32552083333333331),\n",
       " ((6, 9), 0.0),\n",
       " ((1, 6), 0.0),\n",
       " ((2, 5), 0.0),\n",
       " ((8, 5), 0.0),\n",
       " ((5, 8), 0.0),\n",
       " ((5, 5), 0.0),\n",
       " ((1, 1), 0.0),\n",
       " ((3, 2), 0.0),\n",
       " ((2, 6), 0.0),\n",
       " ((8, 2), 0.0),\n",
       " ((4, 5), 0.0),\n",
       " ((9, 3), 0.0),\n",
       " ((3, 1), 0.0),\n",
       " ((9, 9), 0.0),\n",
       " ((7, 8), 0.0),\n",
       " ((2, 1), 0.0),\n",
       " ((8, 9), 0.0),\n",
       " ((9, 4), 0.0),\n",
       " ((5, 1), 0.0),\n",
       " ((7, 2), 0.0),\n",
       " ((1, 5), 0.0),\n",
       " ((2, 2), 0.0),\n",
       " ((8, 6), 0.0),\n",
       " ((4, 1), 0.0),\n",
       " ((9, 7), 0.0),\n",
       " ((5, 4), 0.0),\n",
       " ((0, 8), 0.0),\n",
       " ((3, 5), 0.0),\n",
       " ((9, 2), 0.0),\n",
       " ((6, 1), 0.0),\n",
       " ((5, 7), 0.0),\n",
       " ((4, 8), 0.0),\n",
       " ((2, 8), 0.0),\n",
       " ((9, 8), 0.0),\n",
       " ((8, 0), 0.0),\n",
       " ((6, 2), 0.0),\n",
       " ((5, 0), 0.0),\n",
       " ((1, 4), 0.0),\n",
       " ((3, 9), 0.0),\n",
       " ((1, 9), 0.0),\n",
       " ((8, 7), 0.0),\n",
       " ((4, 2), 0.0),\n",
       " ((6, 5), 0.0),\n",
       " ((5, 3), 0.0),\n",
       " ((6, 8), 0.0),\n",
       " ((1, 7), 0.0),\n",
       " ((2, 4), 0.0),\n",
       " ((8, 4), 0.0),\n",
       " ((5, 9), 0.0),\n",
       " ((9, 1), 0.0),\n",
       " ((6, 6), 0.0),\n",
       " ((5, 6), 0.0),\n",
       " ((1, 2), 0.0),\n",
       " ((4, 9), 0.0),\n",
       " ((2, 9), 0.0),\n",
       " ((8, 1), 0.0),\n",
       " ((7, 9), 0.0),\n",
       " ((3, 8), 0.0),\n",
       " ((1, 8), 0.0),\n",
       " ((8, 8), 0.0),\n",
       " ((9, 5), 0.0),\n",
       " ((5, 2), 0.0)]"
      ]
     },
     "execution_count": 123,
     "metadata": {},
     "output_type": "execute_result"
    }
   ],
   "source": [
    "get_evs(sb_squares_q1)"
   ]
  },
  {
   "cell_type": "code",
   "execution_count": 124,
   "metadata": {},
   "outputs": [
    {
     "data": {
      "text/plain": [
       "[((0, 0), 17.903645833333332),\n",
       " ((7, 0), 15.950520833333332),\n",
       " ((0, 7), 13.020833333333334),\n",
       " ((3, 0), 13.020833333333334),\n",
       " ((3, 7), 11.71875),\n",
       " ((0, 3), 11.067708333333334),\n",
       " ((0, 4), 10.416666666666666),\n",
       " ((7, 7), 10.091145833333334),\n",
       " ((7, 3), 8.1380208333333339),\n",
       " ((4, 0), 8.1380208333333339),\n",
       " ((3, 3), 8.1380208333333339),\n",
       " ((3, 4), 7.161458333333333),\n",
       " ((3, 6), 6.510416666666667),\n",
       " ((0, 6), 6.510416666666667),\n",
       " ((7, 4), 6.184895833333333),\n",
       " ((0, 1), 5.533854166666667),\n",
       " ((4, 4), 5.208333333333333),\n",
       " ((7, 6), 4.8828125),\n",
       " ((6, 7), 3.90625),\n",
       " ((6, 0), 3.90625),\n",
       " ((6, 3), 3.90625),\n",
       " ((4, 7), 3.5807291666666665),\n",
       " ((6, 6), 3.2552083333333335),\n",
       " ((4, 3), 3.2552083333333335),\n",
       " ((3, 1), 2.9296875),\n",
       " ((6, 4), 2.9296875),\n",
       " ((1, 7), 2.9296875),\n",
       " ((0, 9), 2.9296875),\n",
       " ((7, 9), 2.9296875),\n",
       " ((7, 1), 2.6041666666666665),\n",
       " ((1, 0), 2.6041666666666665),\n",
       " ((9, 4), 2.2786458333333335),\n",
       " ((4, 6), 2.2786458333333335),\n",
       " ((9, 0), 1.953125),\n",
       " ((4, 1), 1.6276041666666667),\n",
       " ((3, 9), 1.6276041666666667),\n",
       " ((6, 9), 1.3020833333333333),\n",
       " ((9, 3), 1.3020833333333333),\n",
       " ((9, 7), 1.3020833333333333),\n",
       " ((0, 8), 1.3020833333333333),\n",
       " ((2, 7), 1.3020833333333333),\n",
       " ((1, 1), 0.9765625),\n",
       " ((3, 2), 0.9765625),\n",
       " ((3, 5), 0.9765625),\n",
       " ((6, 1), 0.9765625),\n",
       " ((1, 3), 0.9765625),\n",
       " ((1, 4), 0.9765625),\n",
       " ((8, 7), 0.9765625),\n",
       " ((4, 9), 0.9765625),\n",
       " ((3, 8), 0.9765625),\n",
       " ((2, 0), 0.9765625),\n",
       " ((2, 6), 0.65104166666666663),\n",
       " ((7, 5), 0.65104166666666663),\n",
       " ((9, 9), 0.65104166666666663),\n",
       " ((7, 2), 0.65104166666666663),\n",
       " ((8, 6), 0.65104166666666663),\n",
       " ((0, 5), 0.65104166666666663),\n",
       " ((5, 7), 0.65104166666666663),\n",
       " ((0, 2), 0.65104166666666663),\n",
       " ((4, 8), 0.65104166666666663),\n",
       " ((8, 0), 0.65104166666666663),\n",
       " ((2, 3), 0.65104166666666663),\n",
       " ((5, 3), 0.65104166666666663),\n",
       " ((9, 1), 0.65104166666666663),\n",
       " ((1, 6), 0.32552083333333331),\n",
       " ((4, 5), 0.32552083333333331),\n",
       " ((7, 8), 0.32552083333333331),\n",
       " ((2, 1), 0.32552083333333331),\n",
       " ((1, 5), 0.32552083333333331),\n",
       " ((5, 4), 0.32552083333333331),\n",
       " ((8, 3), 0.32552083333333331),\n",
       " ((9, 2), 0.32552083333333331),\n",
       " ((5, 0), 0.32552083333333331),\n",
       " ((1, 9), 0.32552083333333331),\n",
       " ((6, 5), 0.32552083333333331),\n",
       " ((8, 4), 0.32552083333333331),\n",
       " ((1, 8), 0.32552083333333331),\n",
       " ((2, 5), 0.0),\n",
       " ((8, 5), 0.0),\n",
       " ((5, 8), 0.0),\n",
       " ((5, 5), 0.0),\n",
       " ((8, 2), 0.0),\n",
       " ((8, 9), 0.0),\n",
       " ((5, 1), 0.0),\n",
       " ((2, 2), 0.0),\n",
       " ((2, 8), 0.0),\n",
       " ((9, 8), 0.0),\n",
       " ((6, 2), 0.0),\n",
       " ((4, 2), 0.0),\n",
       " ((9, 6), 0.0),\n",
       " ((6, 8), 0.0),\n",
       " ((2, 4), 0.0),\n",
       " ((5, 9), 0.0),\n",
       " ((5, 6), 0.0),\n",
       " ((1, 2), 0.0),\n",
       " ((2, 9), 0.0),\n",
       " ((8, 1), 0.0),\n",
       " ((8, 8), 0.0),\n",
       " ((9, 5), 0.0),\n",
       " ((5, 2), 0.0)]"
      ]
     },
     "execution_count": 124,
     "metadata": {},
     "output_type": "execute_result"
    }
   ],
   "source": [
    "get_evs(sb_squares_q2)"
   ]
  },
  {
   "cell_type": "code",
   "execution_count": 127,
   "metadata": {},
   "outputs": [
    {
     "data": {
      "text/plain": [
       "[((0, 0), 12.369791666666666),\n",
       " ((7, 0), 12.044270833333334),\n",
       " ((3, 0), 11.71875),\n",
       " ((0, 7), 11.067708333333334),\n",
       " ((0, 3), 10.416666666666666),\n",
       " ((3, 7), 8.4635416666666661),\n",
       " ((7, 3), 7.161458333333333),\n",
       " ((7, 4), 6.8359375),\n",
       " ((4, 7), 6.8359375),\n",
       " ((3, 3), 6.8359375),\n",
       " ((4, 0), 6.510416666666667),\n",
       " ((0, 4), 6.510416666666667),\n",
       " ((7, 7), 6.510416666666667),\n",
       " ((3, 4), 6.184895833333333),\n",
       " ((6, 0), 5.859375),\n",
       " ((3, 6), 5.533854166666667),\n",
       " ((4, 4), 5.208333333333333),\n",
       " ((6, 4), 4.8828125),\n",
       " ((0, 6), 4.231770833333333),\n",
       " ((7, 6), 3.90625),\n",
       " ((0, 1), 3.5807291666666665),\n",
       " ((7, 8), 3.5807291666666665),\n",
       " ((1, 7), 3.5807291666666665),\n",
       " ((9, 0), 3.2552083333333335),\n",
       " ((6, 7), 3.2552083333333335),\n",
       " ((7, 1), 3.2552083333333335),\n",
       " ((1, 4), 3.2552083333333335),\n",
       " ((3, 9), 3.2552083333333335),\n",
       " ((1, 0), 2.9296875),\n",
       " ((3, 8), 2.9296875),\n",
       " ((4, 3), 2.9296875),\n",
       " ((4, 6), 2.6041666666666665),\n",
       " ((1, 3), 2.6041666666666665),\n",
       " ((6, 3), 2.6041666666666665),\n",
       " ((6, 6), 2.2786458333333335),\n",
       " ((3, 1), 1.953125),\n",
       " ((9, 7), 1.953125),\n",
       " ((0, 5), 1.953125),\n",
       " ((2, 3), 1.953125),\n",
       " ((0, 9), 1.953125),\n",
       " ((7, 9), 1.953125),\n",
       " ((2, 0), 1.953125),\n",
       " ((1, 1), 1.6276041666666667),\n",
       " ((4, 5), 1.6276041666666667),\n",
       " ((9, 3), 1.6276041666666667),\n",
       " ((0, 8), 1.6276041666666667),\n",
       " ((0, 2), 1.6276041666666667),\n",
       " ((8, 7), 1.6276041666666667),\n",
       " ((1, 8), 1.6276041666666667),\n",
       " ((4, 1), 1.3020833333333333),\n",
       " ((5, 4), 1.3020833333333333),\n",
       " ((3, 5), 1.3020833333333333),\n",
       " ((6, 1), 1.3020833333333333),\n",
       " ((4, 8), 1.3020833333333333),\n",
       " ((5, 0), 1.3020833333333333),\n",
       " ((9, 6), 1.3020833333333333),\n",
       " ((4, 9), 1.3020833333333333),\n",
       " ((6, 9), 0.9765625),\n",
       " ((2, 6), 0.9765625),\n",
       " ((7, 5), 0.9765625),\n",
       " ((9, 4), 0.9765625),\n",
       " ((2, 7), 0.9765625),\n",
       " ((8, 3), 0.9765625),\n",
       " ((6, 5), 0.9765625),\n",
       " ((8, 4), 0.9765625),\n",
       " ((9, 9), 0.65104166666666663),\n",
       " ((5, 1), 0.65104166666666663),\n",
       " ((1, 5), 0.65104166666666663),\n",
       " ((8, 0), 0.65104166666666663),\n",
       " ((4, 2), 0.65104166666666663),\n",
       " ((2, 4), 0.65104166666666663),\n",
       " ((9, 1), 0.65104166666666663),\n",
       " ((1, 2), 0.65104166666666663),\n",
       " ((8, 1), 0.65104166666666663),\n",
       " ((8, 8), 0.65104166666666663),\n",
       " ((1, 6), 0.32552083333333331),\n",
       " ((8, 5), 0.32552083333333331),\n",
       " ((5, 8), 0.32552083333333331),\n",
       " ((3, 2), 0.32552083333333331),\n",
       " ((8, 2), 0.32552083333333331),\n",
       " ((2, 1), 0.32552083333333331),\n",
       " ((7, 2), 0.32552083333333331),\n",
       " ((5, 7), 0.32552083333333331),\n",
       " ((2, 8), 0.32552083333333331),\n",
       " ((9, 8), 0.32552083333333331),\n",
       " ((6, 2), 0.32552083333333331),\n",
       " ((1, 9), 0.32552083333333331),\n",
       " ((5, 3), 0.32552083333333331),\n",
       " ((5, 6), 0.32552083333333331),\n",
       " ((2, 9), 0.32552083333333331),\n",
       " ((9, 5), 0.32552083333333331),\n",
       " ((2, 5), 0.0),\n",
       " ((5, 5), 0.0),\n",
       " ((8, 9), 0.0),\n",
       " ((2, 2), 0.0),\n",
       " ((8, 6), 0.0),\n",
       " ((9, 2), 0.0),\n",
       " ((6, 8), 0.0),\n",
       " ((5, 9), 0.0),\n",
       " ((5, 2), 0.0)]"
      ]
     },
     "execution_count": 127,
     "metadata": {},
     "output_type": "execute_result"
    }
   ],
   "source": [
    "get_evs(sb_squares_q3)"
   ]
  },
  {
   "cell_type": "code",
   "execution_count": 138,
   "metadata": {},
   "outputs": [
    {
     "name": "stdout",
     "output_type": "stream",
     "text": [
      "3.62573512559\n",
      "6.93013594824\n",
      "3.73424469859\n",
      "2.88811652137\n",
      "1.94653837295\n"
     ]
    }
   ],
   "source": [
    "print(np.std([x for _, x in get_evs(sb_squares)]))\n",
    "print np.std([x for _, x in get_evs(sb_squares_q1)])\n",
    "print np.std([x for _, x in get_evs(sb_squares_q2)])\n",
    "print np.std([x for _, x in get_evs(sb_squares_q3)])\n",
    "print np.std([x for _, x in get_evs(sb_squares_q4)])"
   ]
  },
  {
   "cell_type": "markdown",
   "metadata": {},
   "source": [
    "## Super Bowl specific"
   ]
  },
  {
   "cell_type": "code",
   "execution_count": 105,
   "metadata": {},
   "outputs": [],
   "source": [
    "sb_links = []\n",
    "for yr in range(2001,2019):\n",
    "    sb_links += get_week_links(yr, 21)"
   ]
  },
  {
   "cell_type": "code",
   "execution_count": 111,
   "metadata": {
    "collapsed": true
   },
   "outputs": [],
   "source": [
    "sb_squares_sb = np.zeros((10,10))\n",
    "sb_squares_sb_q1 = np.zeros((10,10))\n",
    "sb_squares_sb_q2 = np.zeros((10,10))\n",
    "sb_squares_sb_q3 = np.zeros((10,10))\n",
    "sb_squares_sb_q4 = np.zeros((10,10))"
   ]
  },
  {
   "cell_type": "code",
   "execution_count": 112,
   "metadata": {},
   "outputs": [],
   "source": [
    "for i, link in enumerate(sb_links):\n",
    "    try:\n",
    "        qtr_ends = get_quarters(link)\n",
    "        sb_squares_sb_q1[qtr_ends[0]] += 1\n",
    "        sb_squares_sb_q2[qtr_ends[1]] += 1\n",
    "        sb_squares_sb_q3[qtr_ends[2]] += 1\n",
    "        sb_squares_sb_q4[qtr_ends[3]] += 1\n",
    "        for qtr_end in qtr_ends:\n",
    "            sb_squares_sb[qtr_end] += 1\n",
    "    except:\n",
    "        print i"
   ]
  },
  {
   "cell_type": "code",
   "execution_count": 114,
   "metadata": {},
   "outputs": [
    {
     "data": {
      "text/plain": [
       "array([[ 0.10769231,  0.03076923,  0.        ,  0.01538462,  0.03076923,\n",
       "         0.        ,  0.        ,  0.01538462,  0.        ,  0.        ],\n",
       "       [ 0.        ,  0.        ,  0.        ,  0.01538462,  0.03076923,\n",
       "         0.        ,  0.        ,  0.03076923,  0.        ,  0.        ],\n",
       "       [ 0.01538462,  0.        ,  0.01538462,  0.        ,  0.        ,\n",
       "         0.        ,  0.        ,  0.01538462,  0.        ,  0.01538462],\n",
       "       [ 0.04615385,  0.01538462,  0.        ,  0.03076923,  0.        ,\n",
       "         0.        ,  0.        ,  0.07692308,  0.03076923,  0.        ],\n",
       "       [ 0.04615385,  0.        ,  0.        ,  0.        ,  0.04615385,\n",
       "         0.        ,  0.        ,  0.        ,  0.03076923,  0.        ],\n",
       "       [ 0.        ,  0.01538462,  0.        ,  0.        ,  0.        ,\n",
       "         0.        ,  0.        ,  0.01538462,  0.        ,  0.        ],\n",
       "       [ 0.01538462,  0.01538462,  0.        ,  0.        ,  0.03076923,\n",
       "         0.        ,  0.        ,  0.03076923,  0.01538462,  0.        ],\n",
       "       [ 0.        ,  0.01538462,  0.        ,  0.01538462,  0.01538462,\n",
       "         0.        ,  0.        ,  0.03076923,  0.        ,  0.        ],\n",
       "       [ 0.01538462,  0.        ,  0.        ,  0.        ,  0.        ,\n",
       "         0.        ,  0.        ,  0.        ,  0.01538462,  0.        ],\n",
       "       [ 0.03076923,  0.        ,  0.        ,  0.01538462,  0.        ,\n",
       "         0.        ,  0.01538462,  0.01538462,  0.01538462,  0.        ]])"
      ]
     },
     "execution_count": 114,
     "metadata": {},
     "output_type": "execute_result"
    }
   ],
   "source": [
    "sb_squares_sb/sum(sum(sb_squares_sb))"
   ]
  },
  {
   "cell_type": "code",
   "execution_count": null,
   "metadata": {
    "collapsed": true
   },
   "outputs": [],
   "source": []
  },
  {
   "cell_type": "markdown",
   "metadata": {},
   "source": [
    "## Debug"
   ]
  },
  {
   "cell_type": "code",
   "execution_count": 30,
   "metadata": {
    "collapsed": true
   },
   "outputs": [],
   "source": [
    "link = 'https://www.pro-football-reference.com/boxscores/201710290cle.htm'\n",
    "page = urllib.urlopen(link).read()"
   ]
  },
  {
   "cell_type": "code",
   "execution_count": 31,
   "metadata": {
    "collapsed": true
   },
   "outputs": [],
   "source": [
    "soup = BeautifulSoup(page, \"lxml\")"
   ]
  },
  {
   "cell_type": "code",
   "execution_count": 32,
   "metadata": {
    "collapsed": true
   },
   "outputs": [],
   "source": [
    "table = soup.find_all('table')\n",
    "scores_table = table[0].find('tbody')"
   ]
  },
  {
   "cell_type": "code",
   "execution_count": 33,
   "metadata": {
    "collapsed": true
   },
   "outputs": [],
   "source": [
    "trs = scores_table.find_all('tr')"
   ]
  },
  {
   "cell_type": "code",
   "execution_count": 34,
   "metadata": {
    "collapsed": true
   },
   "outputs": [],
   "source": [
    "td_home = trs[0].find_all('td')[2:-1]\n",
    "td_away = trs[1].find_all('td')[2:-1]"
   ]
  },
  {
   "cell_type": "code",
   "execution_count": 35,
   "metadata": {
    "collapsed": true
   },
   "outputs": [],
   "source": [
    "scores_qtr_home = [int(td.text) for td in td_home]\n",
    "scores_qtr_away = [int(td.text) for td in td_away]"
   ]
  },
  {
   "cell_type": "code",
   "execution_count": 37,
   "metadata": {
    "collapsed": true
   },
   "outputs": [],
   "source": [
    "scores_home = np.cumsum(scores_qtr_home)\n",
    "scores_away = np.cumsum(scores_qtr_away)"
   ]
  },
  {
   "cell_type": "code",
   "execution_count": 38,
   "metadata": {},
   "outputs": [
    {
     "data": {
      "text/plain": [
       "[(3, 6), (2, 3), (3, 6), (3, 6)]"
      ]
     },
     "execution_count": 38,
     "metadata": {},
     "output_type": "execute_result"
    }
   ],
   "source": [
    "[(a % 10, b % 10) for a,b in zip(scores_home, scores_away)]"
   ]
  }
 ],
 "metadata": {
  "kernelspec": {
   "display_name": "Python 2",
   "language": "python",
   "name": "python2"
  },
  "language_info": {
   "codemirror_mode": {
    "name": "ipython",
    "version": 2
   },
   "file_extension": ".py",
   "mimetype": "text/x-python",
   "name": "python",
   "nbconvert_exporter": "python",
   "pygments_lexer": "ipython2",
   "version": "2.7.13"
  }
 },
 "nbformat": 4,
 "nbformat_minor": 2
}
